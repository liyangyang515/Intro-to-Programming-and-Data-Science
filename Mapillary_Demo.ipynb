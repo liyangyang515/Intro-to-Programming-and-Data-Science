{
  "nbformat": 4,
  "nbformat_minor": 0,
  "metadata": {
    "colab": {
      "name": "Mapillary Demo.ipynb",
      "private_outputs": true,
      "provenance": [],
      "collapsed_sections": [],
      "include_colab_link": true
    },
    "kernelspec": {
      "name": "python3",
      "display_name": "Python 3"
    },
    "language_info": {
      "name": "python"
    }
  },
  "cells": [
    {
      "cell_type": "markdown",
      "metadata": {
        "id": "view-in-github",
        "colab_type": "text"
      },
      "source": [
        "<a href=\"https://colab.research.google.com/github/liyangyang515/Intro-to-Programming-and-Data-Science/blob/master/Mapillary_Demo.ipynb\" target=\"_parent\"><img src=\"https://colab.research.google.com/assets/colab-badge.svg\" alt=\"Open In Colab\"/></a>"
      ]
    },
    {
      "cell_type": "code",
      "metadata": {
        "id": "9ija7G5ccs5O"
      },
      "source": [
        "# Installs the package. Google Colab may ask you to restart the runtime\n",
        "!pip install mapillary"
      ],
      "execution_count": null,
      "outputs": []
    },
    {
      "cell_type": "code",
      "metadata": {
        "id": "50xsGHYEcmns"
      },
      "source": [
        "import mapillary.interface as mly\n",
        "import requests\n",
        "import json"
      ],
      "execution_count": null,
      "outputs": []
    },
    {
      "cell_type": "code",
      "metadata": {
        "id": "1Ke8fxNpdg0r"
      },
      "source": [
        "# Your token here!\n",
        "# To get one, visit https://www.mapillary.com/dashboard/developer, go to 'developers',\n",
        "# Then 'register application', register a new application (read access atleast),\n",
        "# then copy & paste the 'Client Token' here\n",
        "MLY_ACCESS_TOKEN = 'MLY|5024536524295001|ca34b5c89fa8b5491ede113efc2555c3'\n",
        "mly.set_access_token(MLY_ACCESS_TOKEN)"
      ],
      "execution_count": null,
      "outputs": []
    },
    {
      "cell_type": "code",
      "metadata": {
        "id": "HFRn2yeDmjYb"
      },
      "source": [
        "images_in_geojson_1 = requests.get('https://gist.githubusercontent.com/Rubix982/aa96e34c2c5165ee6b3faa55fe25a57a/raw/4598b8160756abeacbaf5493a989bec14cdf4690/images_in_geojson_1.json').json()\n",
        "images_in_geojson_2 = requests.get('https://gist.githubusercontent.com/Rubix982/bca606a844dcf3341a10d55d69bba5a1/raw/eb8914edc0e9bebdaef968fd3a096ac7bd066024/images_in_geojson_2.json').json()\n",
        "images_in_geojson_3 = requests.get('https://gist.githubusercontent.com/Rubix982/2dedf195d4f37fe17695ec15ea741ae6/raw/833e362aeda0aba3dd47be8049ea2cbae4f97b5a/images_in_geojson_3.json').json()\n",
        "polygon = requests.get('https://gist.githubusercontent.com/Rubix982/b9e5ddeb0f482ae107433067fe0d18fd/raw/070ba0e2228bb32d0068b11012b9918c83df048d/polygon.json').json()"
      ],
      "execution_count": null,
      "outputs": []
    },
    {
      "cell_type": "code",
      "metadata": {
        "id": "-W3L2du_nDmE"
      },
      "source": [
        "polygon"
      ],
      "execution_count": null,
      "outputs": []
    },
    {
      "cell_type": "code",
      "metadata": {
        "id": "O259L3dddjSz"
      },
      "source": [
        "data = mly.get_image_close_to(longitude=31, latitude=30).to_dict()\n",
        "with open(\"get_image_close_to_1.json\", mode=\"w\") as f:\n",
        "    json.dump(data, f, indent=4)"
      ],
      "execution_count": null,
      "outputs": []
    },
    {
      "cell_type": "code",
      "metadata": {
        "id": "gHBQ1uypdpb7"
      },
      "source": [
        "data = mly.get_image_close_to(longitude=31, latitude=30, radius=900).to_dict()\n",
        "with open(\"get_image_close_to_2.json\", mode=\"w\") as f:\n",
        "    json.dump(data, f, indent=4)"
      ],
      "execution_count": null,
      "outputs": []
    },
    {
      "cell_type": "code",
      "metadata": {
        "id": "thly-OXFd3X9"
      },
      "source": [
        "data = mly.get_image_close_to(\n",
        "    longitude=31, latitude=30, radius=1750, image_type=\"flat\", min_captured_at=\"2016-05-20\"\n",
        ").to_dict()\n",
        "\n",
        "with open(\"get_image_close_to_3.json\", mode=\"w\") as f:\n",
        "    json.dump(data, f, indent=4)"
      ],
      "execution_count": null,
      "outputs": []
    },
    {
      "cell_type": "code",
      "metadata": {
        "id": "QI-slIx3d9Tc"
      },
      "source": [
        "data = mly.get_image_close_to(\n",
        "    longitude=31, latitude=30, radius=2000, image_type=\"flat\", max_captured_at=\"2021-05-20\"\n",
        ").to_dict()\n",
        "\n",
        "with open(\"get_image_close_to_4.json\", mode=\"w\") as f:\n",
        "    json.dump(data, f, indent=4)"
      ],
      "execution_count": null,
      "outputs": []
    },
    {
      "cell_type": "code",
      "metadata": {
        "id": "QU8dnmmhd_rK"
      },
      "source": [
        "data = mly.get_image_close_to(\n",
        "    longitude=31, latitude=30, radius=2000, image_type=\"flat\", max_captured_at=\"2018-05-20\"\n",
        ").to_dict()\n",
        "\n",
        "with open(\"get_image_close_to_5.json\", mode=\"w\") as f:\n",
        "    json.dump(data, f, indent=4)"
      ],
      "execution_count": null,
      "outputs": []
    },
    {
      "cell_type": "code",
      "metadata": {
        "id": "kuwVe7mQeCaL"
      },
      "source": [
        "data = mly.get_image_close_to(longitude=31, latitude=30, max_captured_at=\"*\").to_dict()\n",
        "\n",
        "with open(\"get_image_close_to_6.json\", mode=\"w\") as f:\n",
        "    json.dump(data, f, indent=4)"
      ],
      "execution_count": null,
      "outputs": []
    },
    {
      "cell_type": "code",
      "metadata": {
        "id": "SAJYtTnBeEGj"
      },
      "source": [
        "data = mly.get_image_looking_at(\n",
        "    looker={\n",
        "        \"lng\": 12.954940544167,\n",
        "        \"lat\": 48.0537894275,\n",
        "    },\n",
        "    at={\n",
        "        \"lng\": 12.955075073889,\n",
        "        \"lat\": 48.053805939722,\n",
        "    },\n",
        "    radius=5000,\n",
        ").to_dict()\n",
        "\n",
        "with open(\"get_image_looking_at_1.json\", mode=\"w\") as f:\n",
        "    json.dump(data, f, indent=4)"
      ],
      "execution_count": null,
      "outputs": []
    },
    {
      "cell_type": "code",
      "metadata": {
        "id": "J0t86Y7qeG4w"
      },
      "source": [
        "data = mly.get_image_looking_at(\n",
        "    looker={\n",
        "        \"lng\": 31.34212895704,\n",
        "        \"lat\": 30.095393350648,\n",
        "    },\n",
        "    at={\n",
        "        \"lng\": 31.342324414868,\n",
        "        \"lat\": 30.095490651662,\n",
        "    },\n",
        "    radius=150,\n",
        ").to_dict()\n",
        "\n",
        "with open(\"get_image_looking_at_2.json\", mode=\"w\") as f:\n",
        "    json.dump(data, f, indent=4)"
      ],
      "execution_count": null,
      "outputs": []
    },
    {
      "cell_type": "code",
      "metadata": {
        "id": "eM_Ts5P3eJym"
      },
      "source": [
        "data = mly.get_image_looking_at(\n",
        "    looker={\n",
        "        \"lng\": 31.34212895704,\n",
        "        \"lat\": 30.095393350648,\n",
        "    },\n",
        "    at={\n",
        "        \"lng\": 31.342324414868,\n",
        "        \"lat\": 30.095490651662,\n",
        "    },\n",
        "    radius=1000000,\n",
        ").to_dict()\n",
        "\n",
        "with open(\"get_image_looking_at_3.json\", mode=\"w\") as f:\n",
        "    json.dump(data, f, indent=4)"
      ],
      "execution_count": null,
      "outputs": []
    },
    {
      "cell_type": "code",
      "metadata": {
        "id": "OIol0mabeMWc"
      },
      "source": [
        "data = mly.get_image_looking_at(\n",
        "    looker={\n",
        "        \"lng\": 31.34212895704,\n",
        "        \"lat\": 30.095393350648,\n",
        "    },\n",
        "    at={\n",
        "        \"lng\": 31.342324414868,\n",
        "        \"lat\": 30.095490651662,\n",
        "    },\n",
        "    radius=1000000,\n",
        "    image_type=\"pano\",\n",
        ").to_dict()\n",
        "\n",
        "with open(\"get_image_looking_at_4.json\", mode=\"w\") as f:\n",
        "    json.dump(data, f, indent=4)"
      ],
      "execution_count": null,
      "outputs": []
    },
    {
      "cell_type": "code",
      "metadata": {
        "id": "SCiKujr-eN7H"
      },
      "source": [
        "data = mly.get_detections_with_image_id(image_id=1933525276802129).to_dict()\n",
        "\n",
        "with open(\"get_detections_with_image_id_1.json\", mode=\"w\") as f:\n",
        "    json.dump(data, f, indent=4)"
      ],
      "execution_count": null,
      "outputs": []
    },
    {
      "cell_type": "code",
      "metadata": {
        "id": "XyyMYA-DePrz"
      },
      "source": [
        "data = mly.get_detections_with_image_id(image_id=488928888986256).to_dict()\n",
        "\n",
        "with open(\"get_detections_with_image_id_2.json\", mode=\"w\") as f:\n",
        "    json.dump(data, f, indent=4)"
      ],
      "execution_count": null,
      "outputs": []
    },
    {
      "cell_type": "code",
      "metadata": {
        "id": "rk9H-DLFeRgx"
      },
      "source": [
        "  data = mly.get_detections_with_image_id(image_id=1874222149404857).to_dict()\n",
        "\n",
        "  with open(\"get_detections_with_image_id_3.json\", mode=\"w\") as f:\n",
        "      json.dump(data, f, indent=4)"
      ],
      "execution_count": null,
      "outputs": []
    },
    {
      "cell_type": "code",
      "metadata": {
        "id": "W6TywIYqeS2n"
      },
      "source": [
        "data = mly.get_detections_with_map_feature_id(\n",
        "    map_feature_id=852766358956987\n",
        ").to_dict()\n",
        "\n",
        "with open(\"get_detections_with_map_feature_id_1.json\", mode=\"w\") as f:\n",
        "    json.dump(data, f, indent=4)"
      ],
      "execution_count": null,
      "outputs": []
    },
    {
      "cell_type": "code",
      "metadata": {
        "id": "H7Lhuc6HeVkg"
      },
      "source": [
        "data = mly.get_detections_with_map_feature_id(\n",
        "    map_feature_id=3976542325773247\n",
        ").to_dict()\n",
        "\n",
        "with open(\"get_detections_with_map_feature_id_2.json\", mode=\"w\") as f:\n",
        "    json.dump(data, f, indent=4)"
      ],
      "execution_count": null,
      "outputs": []
    },
    {
      "cell_type": "code",
      "metadata": {
        "id": "vXR0kX56eXRV"
      },
      "source": [
        "open(\"image_thumbnail_1.txt\", mode=\"w\").close()\n",
        "\n",
        "for res in [256, 1024, 2048]:\n",
        "    data = mly.image_thumbnail(image_id=1874222149404857, resolution=res)\n",
        "\n",
        "    with open(\"image_thumbnail_1.txt\", mode=\"a\") as f:\n",
        "        f.write(f\"{data}\\n\")"
      ],
      "execution_count": null,
      "outputs": []
    },
    {
      "cell_type": "code",
      "metadata": {
        "id": "mNpKaaF3ebDi"
      },
      "source": [
        "open(\"image_thumbnail_2.txt\", mode=\"w\").close()\n",
        "\n",
        "for res in [256, 1024, 2048]:\n",
        "    data = mly.image_thumbnail(image_id=1933525276802129, resolution=res)\n",
        "\n",
        "    with open(\"image_thumbnail_2.txt\", mode=\"a\") as f:\n",
        "        f.write(f\"{data}\\n\")"
      ],
      "execution_count": null,
      "outputs": []
    },
    {
      "cell_type": "code",
      "metadata": {
        "id": "IB66ags9ecdR"
      },
      "source": [
        "open(\"image_thumbnail_3.txt\", mode=\"w\").close()\n",
        "\n",
        "for res in [256, 1024, 2048]:\n",
        "    data = mly.image_thumbnail(image_id=488928888986256, resolution=res)\n",
        "\n",
        "    with open(\"image_thumbnail_3.txt\", mode=\"a\") as f:\n",
        "        f.write(f\"{data}\\n\")"
      ],
      "execution_count": null,
      "outputs": []
    },
    {
      "cell_type": "code",
      "metadata": {
        "id": "m1DIBSvaeeIC"
      },
      "source": [
        "data = json.loads(\n",
        "    mly.images_in_bbox(\n",
        "        bbox={\n",
        "            \"east\": -109.2459225654602,\n",
        "            \"south\": 45.18050167118351,\n",
        "            \"west\": -109.24773573875427,\n",
        "            \"north\": 45.182150271272505,\n",
        "        },\n",
        "        max_captured_at=\"*\",\n",
        "        min_captured_at=\"2005-03-15\",\n",
        "        image_type=\"pano\",\n",
        "        compass_angle=(0, 360),\n",
        "    )\n",
        ")\n",
        "\n",
        "with open(\"images_in_bbox_1.json\", mode=\"w\") as f:\n",
        "    json.dump(data, f, indent=4)"
      ],
      "execution_count": null,
      "outputs": []
    },
    {
      "cell_type": "code",
      "metadata": {
        "id": "Akmu5k7LehUs"
      },
      "source": [
        "data = json.loads(\n",
        "    mly.sequences_in_bbox(\n",
        "        bbox={\n",
        "            \"east\": -109.2459225654602,\n",
        "            \"south\": 45.18050167118351,\n",
        "            \"west\": -109.24773573875427,\n",
        "            \"north\": 45.182150271272505,\n",
        "        }\n",
        "    )\n",
        ")\n",
        "\n",
        "with open(\"sequences_in_bbox_1.json\", mode=\"w\") as f:\n",
        "    json.dump(data, f, indent=4)"
      ],
      "execution_count": null,
      "outputs": []
    },
    {
      "cell_type": "code",
      "metadata": {
        "id": "XosSWpgaei4j"
      },
      "source": [
        "data = json.loads(\n",
        "      mly.map_feature_points_in_bbox(\n",
        "          {\n",
        "              \"east\": -109.2459225654602,\n",
        "              \"south\": 45.18050167118351,\n",
        "              \"west\": -109.24773573875427,\n",
        "              \"north\": 45.182150271272505,\n",
        "          }\n",
        "      )\n",
        "  )\n",
        "\n",
        "with open(\"map_feature_points_in_bbox_1.json\", mode=\"w\") as f:\n",
        "    json.dump(data, f, indent=4)"
      ],
      "execution_count": null,
      "outputs": []
    },
    {
      "cell_type": "code",
      "metadata": {
        "id": "kf4hC0PUeli0"
      },
      "source": [
        "data = json.loads(\n",
        "    mly.traffic_signs_in_bbox(\n",
        "        {\n",
        "            \"east\": -109.2459225654602,\n",
        "            \"south\": 45.18050167118351,\n",
        "            \"west\": -109.24773573875427,\n",
        "            \"north\": 45.182150271272505,\n",
        "        },\n",
        "        filter_values=[\"complementary--keep-left--g1\"],\n",
        "    )\n",
        ")\n",
        "\n",
        "with open(\"traffic_signs_in_bbox_1.json\", mode=\"w\") as f:\n",
        "    json.dump(data, f, indent=4)"
      ],
      "execution_count": null,
      "outputs": []
    },
    {
      "cell_type": "code",
      "metadata": {
        "id": "FTBO_MR2esLG"
      },
      "source": [
        "data = mly.images_in_geojson(\n",
        "    images_in_geojson_1\n",
        ").to_dict()\n",
        "\n",
        "with open(\"images_in_geojson_1.json\", mode=\"w\") as f:\n",
        "    json.dump(data, f, indent=4)"
      ],
      "execution_count": null,
      "outputs": []
    },
    {
      "cell_type": "code",
      "metadata": {
        "id": "b9nrJnD8etwN"
      },
      "source": [
        "# data = mly.images_in_geojson(\n",
        "#     json.load(open(\"./data/in/images_in_geojson_2.json\", mode=\"r\"))\n",
        "# ).to_dict()\n",
        "\n",
        "data = mly.images_in_geojson(\n",
        "    images_in_geojson_2\n",
        ").to_dict()\n",
        "\n",
        "with open(\"images_in_geojson_2.json\", mode=\"w\") as f:\n",
        "    json.dump(data, f, indent=4)"
      ],
      "execution_count": null,
      "outputs": []
    },
    {
      "cell_type": "code",
      "metadata": {
        "id": "ptoy09fKevdQ"
      },
      "source": [
        "data = mly.images_in_geojson(\n",
        "  images_in_geojson_3\n",
        ").to_dict()\n",
        "\n",
        "with open(\"images_in_geojson_3.json\", mode=\"w\") as f:\n",
        "    json.dump(data, f, indent=4)"
      ],
      "execution_count": null,
      "outputs": []
    },
    {
      "cell_type": "code",
      "metadata": {
        "id": "k2xK6-ScsgJf"
      },
      "source": [
        "polygon"
      ],
      "execution_count": null,
      "outputs": []
    },
    {
      "cell_type": "code",
      "metadata": {
        "id": "deF2k9FyexDd"
      },
      "source": [
        "data = mly.images_in_shape(\n",
        "    polygon\n",
        ").to_dict()\n",
        "\n",
        "with open(\"images_in_shape_1.json\", mode=\"w\") as f:\n",
        "    json.dump(data, f, indent=4)"
      ],
      "execution_count": null,
      "outputs": []
    },
    {
      "cell_type": "code",
      "metadata": {
        "id": "JmqkAbK4ey6j"
      },
      "source": [
        "data = mly.feature_from_key(key=852766358956987)\n",
        "\n",
        "with open(\"feature_from_key_1.json\", mode=\"w\") as f:\n",
        "    json.dump(data, f, indent=4)"
      ],
      "execution_count": null,
      "outputs": []
    },
    {
      "cell_type": "code",
      "metadata": {
        "id": "0eXDM3fscgqv"
      },
      "source": [
        "data = mly.image_from_key(key=488928888986256)\n",
        "\n",
        "with open(\"image_from_key_1.json\", mode=\"w\") as f:\n",
        "    json.dump(data, f, indent=4)"
      ],
      "execution_count": null,
      "outputs": []
    }
  ]
}